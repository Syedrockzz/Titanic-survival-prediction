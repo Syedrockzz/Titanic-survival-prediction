{
  "nbformat": 4,
  "nbformat_minor": 0,
  "metadata": {
    "colab": {
      "provenance": [],
      "include_colab_link": true
    },
    "kernelspec": {
      "name": "python3",
      "display_name": "Python 3"
    },
    "language_info": {
      "name": "python"
    }
  },
  "cells": [
    {
      "cell_type": "markdown",
      "metadata": {
        "id": "view-in-github",
        "colab_type": "text"
      },
      "source": [
        "<a href=\"https://colab.research.google.com/github/Syedrockzz/Titanic-survival-prediction/blob/main/Syed_titanic_pred.ipynb\" target=\"_parent\"><img src=\"https://colab.research.google.com/assets/colab-badge.svg\" alt=\"Open In Colab\"/></a>"
      ]
    },
    {
      "cell_type": "code",
      "source": [
        "import numpy as np\n",
        "import pandas as pd\n",
        "import matplotlib.pyplot as plt\n",
        "import seaborn as sns\n",
        "\n",
        "from sklearn.model_selection import train_test_split\n",
        "from sklearn.ensemble import RandomForestRegressor\n",
        "from sklearn.ensemble import RandomForestClassifier\n",
        "from sklearn.metrics import accuracy_score, classification_report\n",
        "\n",
        "# Suppress warnings\n",
        "from warnings import filterwarnings\n",
        "filterwarnings(action='ignore')"
      ],
      "metadata": {
        "id": "KRA2XeJLfa5b"
      },
      "execution_count": null,
      "outputs": []
    },
    {
      "cell_type": "code",
      "source": [
        "# Load the dataset\n",
        "df = pd.read_csv(\"/content/Titanic-Dataset.csv\")\n",
        "\n",
        "# Feature Engineering\n",
        "df['Title'] = df['Name'].apply(lambda x: x.split(',')[1].split('.')[0].strip())\n",
        "title_age_median = df.groupby('Title')['Age'].transform('median')\n",
        "df['Age'].fillna(title_age_median, inplace=True)\n",
        "df['Embarked'].fillna(df['Embarked'].mode()[0], inplace=True)\n",
        "df['Sex'] = df['Sex'].map({'male': 0, 'female': 1})\n",
        "df['Fare'].fillna(df['Fare'].median(), inplace=True)\n",
        "\n",
        "# Drop unnecessary columns\n",
        "df.drop(['PassengerId', 'Name', 'Ticket', 'Cabin'], axis=1, inplace=True)\n",
        "\n",
        "# One-hot encode categorical variables\n",
        "df = pd.get_dummies(df, columns=['Embarked', 'Title'], drop_first=True)"
      ],
      "metadata": {
        "id": "wKl7D-Hvg-N5"
      },
      "execution_count": null,
      "outputs": []
    },
    {
      "cell_type": "code",
      "source": [
        "# Splitting the dataset\n",
        "X = df.drop('Survived', axis=1)\n",
        "y = df['Survived']\n",
        "X_train, X_test, y_train, y_test = train_test_split(X, y, test_size=0.2, random_state=42)"
      ],
      "metadata": {
        "id": "BulIYWABhAzf"
      },
      "execution_count": null,
      "outputs": []
    },
    {
      "cell_type": "code",
      "source": [
        "# Filling missing ages using Random Forest Regressor\n",
        "age_df = df[['Age', 'Survived', 'Fare', 'Parch', 'SibSp', 'Pclass']]\n",
        "age_df_notnull = age_df.loc[df['Age'].notnull()]\n",
        "age_df_isnull = age_df.loc[df['Age'].isnull()]\n",
        "X_train_age = age_df_notnull.drop('Age', axis=1)\n",
        "y_train_age = age_df_notnull['Age']\n",
        "X_test_age = age_df_isnull.drop('Age', axis=1)\n",
        "\n",
        "RFR = RandomForestRegressor(n_estimators=1000, n_jobs=-1)\n",
        "RFR.fit(X_train_age, y_train_age)\n",
        "if not X_test_age.empty:\n",
        "    predicted_ages = RFR.predict(X_test_age)\n",
        "    df.loc[df['Age'].isnull(), 'Age'] = predicted_ages"
      ],
      "metadata": {
        "id": "Eorgm79GhEkE"
      },
      "execution_count": null,
      "outputs": []
    },
    {
      "cell_type": "code",
      "source": [
        "# Train Random Forest Classifier\n",
        "RFC = RandomForestClassifier(n_estimators=1000, random_state=42)\n",
        "RFC.fit(X_train, y_train)\n",
        "\n",
        "# Prediction\n",
        "y_pred = RFC.predict(X_test)"
      ],
      "metadata": {
        "id": "oKixtpsKhLVi"
      },
      "execution_count": null,
      "outputs": []
    },
    {
      "cell_type": "code",
      "source": [
        "# Evaluation\n",
        "print(\"Accuracy:\", accuracy_score(y_test, y_pred))\n",
        "print(\"\\nClassification Report:\\n\", classification_report(y_test, y_pred))\n"
      ],
      "metadata": {
        "id": "mNIm-nUehSR-",
        "outputId": "91c70c3d-ee45-4af4-d39d-59bc6a145883",
        "colab": {
          "base_uri": "https://localhost:8080/"
        }
      },
      "execution_count": null,
      "outputs": [
        {
          "output_type": "stream",
          "name": "stdout",
          "text": [
            "Accuracy: 0.8379888268156425\n",
            "\n",
            "Classification Report:\n",
            "               precision    recall  f1-score   support\n",
            "\n",
            "           0       0.87      0.86      0.86       105\n",
            "           1       0.80      0.81      0.81        74\n",
            "\n",
            "    accuracy                           0.84       179\n",
            "   macro avg       0.83      0.83      0.83       179\n",
            "weighted avg       0.84      0.84      0.84       179\n",
            "\n"
          ]
        }
      ]
    }
  ]
}